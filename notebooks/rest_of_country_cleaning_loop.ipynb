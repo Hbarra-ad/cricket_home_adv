{
 "cells": [
  {
   "cell_type": "code",
   "execution_count": 1,
   "id": "e5c3f025",
   "metadata": {},
   "outputs": [],
   "source": [
    "import pandas as pd\n",
    "import numpy as np\n",
    "import matplotlib.pyplot as plt"
   ]
  },
  {
   "cell_type": "code",
   "execution_count": null,
   "id": "fa466e3f",
   "metadata": {},
   "outputs": [],
   "source": [
    "# List of country files\n",
    "remaining_files = [\"../data/australia_match_results.csv\", \"../data/new_zealand_match_results.csv\", \"../data/south_africa_match_results.csv\"]\n",
    "\n",
    "for country_file in remaining_files:\n",
    "    df = pd.read_csv(country_file)\n",
    "\n",
    "    df['Date'] = df['Date'].astype(str).str[-4:]\n",
    "    df['Series'] = df['Series'].str.replace(r'[^a-zA-Z\\s]', '', regex = True)\n",
    "    df['Home Team'] = df['Series'].str.split().str[0]\n",
    "    df['Result'] = df['Result'].str.split().str[:2].str.join(' ')\n",
    "    df['Winner'] = df['Result'].str.split().str[:1].str.join(' ')\n",
    "    df['Winner'] = df['Winner'].str.replace('Match', 'Draw', regex = False)\n",
    "    df = df.drop('Result', axis = 1)\n",
    "    df = df.drop('Test Number', axis = 1)\n",
    "    df = df.drop('Series', axis = 1)\n",
    "    df = df[df['Home Team'] == '']\n",
    "\n",
    "   \n",
    "    cleaned_file = country_file.replace(\"_match_results.csv\", \"_clean_data.csv\")\n",
    "    df.to_csv(cleaned_file, index=False)\n"
   ]
  }
 ],
 "metadata": {
  "kernelspec": {
   "display_name": "Python 3 (ipykernel)",
   "language": "python",
   "name": "python3"
  },
  "language_info": {
   "codemirror_mode": {
    "name": "ipython",
    "version": 3
   },
   "file_extension": ".py",
   "mimetype": "text/x-python",
   "name": "python",
   "nbconvert_exporter": "python",
   "pygments_lexer": "ipython3",
   "version": "3.11.5"
  }
 },
 "nbformat": 4,
 "nbformat_minor": 5
}
