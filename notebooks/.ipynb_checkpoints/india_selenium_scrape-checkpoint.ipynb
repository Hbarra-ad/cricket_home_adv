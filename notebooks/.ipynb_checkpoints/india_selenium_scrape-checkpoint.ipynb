{
 "cells": [
  {
   "cell_type": "code",
   "execution_count": 1,
   "id": "f73c8bba",
   "metadata": {},
   "outputs": [
    {
     "name": "stdout",
     "output_type": "stream",
     "text": [
      "Requirement already satisfied: beautifulsoup4 in c:\\users\\jane barraclough\\anaconda3\\lib\\site-packages (4.12.2)\n",
      "Requirement already satisfied: soupsieve>1.2 in c:\\users\\jane barraclough\\anaconda3\\lib\\site-packages (from beautifulsoup4) (2.4)\n"
     ]
    }
   ],
   "source": [
    "!pip install beautifulsoup4"
   ]
  },
  {
   "cell_type": "code",
   "execution_count": 1,
   "id": "ac4efdf3",
   "metadata": {
    "scrolled": true
   },
   "outputs": [
    {
     "name": "stdout",
     "output_type": "stream",
     "text": [
      "Requirement already satisfied: selenium in c:\\users\\jane barraclough\\anaconda3\\lib\\site-packages (4.31.0)\n",
      "Requirement already satisfied: urllib3[socks]<3,>=1.26 in c:\\users\\jane barraclough\\anaconda3\\lib\\site-packages (from selenium) (1.26.16)\n",
      "Requirement already satisfied: trio~=0.17 in c:\\users\\jane barraclough\\anaconda3\\lib\\site-packages (from selenium) (0.30.0)\n",
      "Requirement already satisfied: trio-websocket~=0.9 in c:\\users\\jane barraclough\\anaconda3\\lib\\site-packages (from selenium) (0.12.2)\n",
      "Requirement already satisfied: certifi>=2021.10.8 in c:\\users\\jane barraclough\\anaconda3\\lib\\site-packages (from selenium) (2024.7.4)\n",
      "Requirement already satisfied: typing_extensions~=4.9 in c:\\users\\jane barraclough\\anaconda3\\lib\\site-packages (from selenium) (4.13.2)\n",
      "Requirement already satisfied: websocket-client~=1.8 in c:\\users\\jane barraclough\\anaconda3\\lib\\site-packages (from selenium) (1.8.0)\n",
      "Requirement already satisfied: attrs>=23.2.0 in c:\\users\\jane barraclough\\anaconda3\\lib\\site-packages (from trio~=0.17->selenium) (25.3.0)\n",
      "Requirement already satisfied: sortedcontainers in c:\\users\\jane barraclough\\anaconda3\\lib\\site-packages (from trio~=0.17->selenium) (2.4.0)\n",
      "Requirement already satisfied: idna in c:\\users\\jane barraclough\\anaconda3\\lib\\site-packages (from trio~=0.17->selenium) (3.4)\n",
      "Requirement already satisfied: outcome in c:\\users\\jane barraclough\\anaconda3\\lib\\site-packages (from trio~=0.17->selenium) (1.3.0.post0)\n",
      "Requirement already satisfied: sniffio>=1.3.0 in c:\\users\\jane barraclough\\anaconda3\\lib\\site-packages (from trio~=0.17->selenium) (1.3.1)\n",
      "Requirement already satisfied: cffi>=1.14 in c:\\users\\jane barraclough\\anaconda3\\lib\\site-packages (from trio~=0.17->selenium) (1.15.1)\n",
      "Requirement already satisfied: wsproto>=0.14 in c:\\users\\jane barraclough\\anaconda3\\lib\\site-packages (from trio-websocket~=0.9->selenium) (1.2.0)\n",
      "Requirement already satisfied: PySocks!=1.5.7,<2.0,>=1.5.6 in c:\\users\\jane barraclough\\anaconda3\\lib\\site-packages (from urllib3[socks]<3,>=1.26->selenium) (1.7.1)\n",
      "Requirement already satisfied: pycparser in c:\\users\\jane barraclough\\anaconda3\\lib\\site-packages (from cffi>=1.14->trio~=0.17->selenium) (2.21)\n",
      "Requirement already satisfied: h11<1,>=0.9.0 in c:\\users\\jane barraclough\\anaconda3\\lib\\site-packages (from wsproto>=0.14->trio-websocket~=0.9->selenium) (0.16.0)\n"
     ]
    }
   ],
   "source": [
    "!pip install selenium"
   ]
  },
  {
   "cell_type": "code",
   "execution_count": 49,
   "id": "95c26116",
   "metadata": {},
   "outputs": [],
   "source": [
    "#https://builtin.com/articles/selenium-web-scraping\n",
    "#https://brightdata.com/blog/how-tos/using-selenium-for-web-scraping#:~:text=Before%20you%20start%20web%20scraping,Chrome%2C%20Firefox%2C%20and%20Edge.\n",
    "\n",
    "#Import selenium and other required packages for the scrape\n",
    "from selenium import webdriver\n",
    "from selenium.webdriver.chrome.service import Service\n",
    "from selenium.webdriver.chrome.options import Options\n",
    "from bs4 import BeautifulSoup\n",
    "import pandas as pd\n",
    "import csv"
   ]
  },
  {
   "cell_type": "code",
   "execution_count": 56,
   "id": "3fcc095c",
   "metadata": {},
   "outputs": [],
   "source": [
    "#Set up the chrome driver options\n",
    "options = Options()\n",
    "options.add_argument(\"--headless\")\n",
    "\n",
    "#Set up the driver\n",
    "service = Service(\"C:/Users/Jane Barraclough/chromedriver.exe\")\n",
    "driver = webdriver.Chrome(service=service, options=options)"
   ]
  },
  {
   "cell_type": "code",
   "execution_count": 57,
   "id": "0667d25d",
   "metadata": {},
   "outputs": [],
   "source": [
    "#Get the url\n",
    "url = \"https://howstat.com/Cricket/Statistics/Matches/MatchListCountry.asp?A=IND&B=XXX&C=XXX\"\n",
    "driver.get(url)\n",
    "\n",
    "#Get the full HTML and close the browser\n",
    "html = driver.page_source\n",
    "soup = BeautifulSoup(html, 'html.parser')\n",
    "driver.quit()"
   ]
  },
  {
   "cell_type": "code",
   "execution_count": 58,
   "id": "bbc77397",
   "metadata": {},
   "outputs": [],
   "source": [
    "#I know I need table 5 for my analysis from the previous scrape attempt\n",
    "tables = soup.find_all('table')\n",
    "match_table = tables[5]\n",
    "rows = match_table.find_all('tr')"
   ]
  },
  {
   "cell_type": "code",
   "execution_count": 59,
   "id": "30c81c10",
   "metadata": {},
   "outputs": [
    {
     "name": "stdout",
     "output_type": "stream",
     "text": [
      "590\n"
     ]
    }
   ],
   "source": [
    "#Need to confirm the number of rows matches the matches played\n",
    "print(len(rows))"
   ]
  },
  {
   "cell_type": "code",
   "execution_count": 60,
   "id": "afad1d5e",
   "metadata": {},
   "outputs": [
    {
     "name": "stdout",
     "output_type": "stream",
     "text": [
      "['', 'Date', 'Series', 'Ground', 'Result']\n"
     ]
    }
   ],
   "source": [
    "# Get the column names\n",
    "header_row = rows[0]\n",
    "headers = [cell.text.strip() for cell in header_row.find_all(['th', 'td'])]\n",
    "print(headers)"
   ]
  },
  {
   "cell_type": "code",
   "execution_count": 62,
   "id": "9543f5f8",
   "metadata": {},
   "outputs": [
    {
     "name": "stdout",
     "output_type": "stream",
     "text": [
      "[['1', '25/06/1932', '1932 England v. India', \"Lord's\", 'England won by 158 runs'], ['2', '15/12/1933', '1933-1934 India v. England', 'Gymkhana Ground', 'England won by 9 wickets'], ['3', '05/01/1934', '1933-1934 India v. England', 'Eden Gardens', 'Match Drawn'], ['4', '10/02/1934', '1933-1934 India v. England', 'MA Chidambaram Stadium', 'England won by 202 runs']]\n"
     ]
    }
   ],
   "source": [
    "# Extract all match data rows\n",
    "data_rows = []\n",
    "\n",
    "for row in rows[1:]:\n",
    "    cells = [cell.text.strip() for cell in row.find_all(['th', 'td'])]\n",
    "    if cells:\n",
    "        data_rows.append(cells)\n",
    "\n",
    "print(data_rows[0:4])\n"
   ]
  },
  {
   "cell_type": "code",
   "execution_count": 63,
   "id": "87641e14",
   "metadata": {},
   "outputs": [
    {
     "data": {
      "text/html": [
       "<div>\n",
       "<style scoped>\n",
       "    .dataframe tbody tr th:only-of-type {\n",
       "        vertical-align: middle;\n",
       "    }\n",
       "\n",
       "    .dataframe tbody tr th {\n",
       "        vertical-align: top;\n",
       "    }\n",
       "\n",
       "    .dataframe thead th {\n",
       "        text-align: right;\n",
       "    }\n",
       "</style>\n",
       "<table border=\"1\" class=\"dataframe\">\n",
       "  <thead>\n",
       "    <tr style=\"text-align: right;\">\n",
       "      <th></th>\n",
       "      <th></th>\n",
       "      <th>Date</th>\n",
       "      <th>Series</th>\n",
       "      <th>Ground</th>\n",
       "      <th>Result</th>\n",
       "    </tr>\n",
       "  </thead>\n",
       "  <tbody>\n",
       "    <tr>\n",
       "      <th>0</th>\n",
       "      <td>1</td>\n",
       "      <td>25/06/1932</td>\n",
       "      <td>1932 England v. India</td>\n",
       "      <td>Lord's</td>\n",
       "      <td>England won by 158 runs</td>\n",
       "    </tr>\n",
       "    <tr>\n",
       "      <th>1</th>\n",
       "      <td>2</td>\n",
       "      <td>15/12/1933</td>\n",
       "      <td>1933-1934 India v. England</td>\n",
       "      <td>Gymkhana Ground</td>\n",
       "      <td>England won by 9 wickets</td>\n",
       "    </tr>\n",
       "    <tr>\n",
       "      <th>2</th>\n",
       "      <td>3</td>\n",
       "      <td>05/01/1934</td>\n",
       "      <td>1933-1934 India v. England</td>\n",
       "      <td>Eden Gardens</td>\n",
       "      <td>Match Drawn</td>\n",
       "    </tr>\n",
       "    <tr>\n",
       "      <th>3</th>\n",
       "      <td>4</td>\n",
       "      <td>10/02/1934</td>\n",
       "      <td>1933-1934 India v. England</td>\n",
       "      <td>MA Chidambaram Stadium</td>\n",
       "      <td>England won by 202 runs</td>\n",
       "    </tr>\n",
       "    <tr>\n",
       "      <th>4</th>\n",
       "      <td>5</td>\n",
       "      <td>27/06/1936</td>\n",
       "      <td>1936 England v. India</td>\n",
       "      <td>Lord's</td>\n",
       "      <td>England won by 9 wickets</td>\n",
       "    </tr>\n",
       "  </tbody>\n",
       "</table>\n",
       "</div>"
      ],
      "text/plain": [
       "            Date                      Series                  Ground  \\\n",
       "0  1  25/06/1932       1932 England v. India                  Lord's   \n",
       "1  2  15/12/1933  1933-1934 India v. England         Gymkhana Ground   \n",
       "2  3  05/01/1934  1933-1934 India v. England            Eden Gardens   \n",
       "3  4  10/02/1934  1933-1934 India v. England  MA Chidambaram Stadium   \n",
       "4  5  27/06/1936       1936 England v. India                  Lord's   \n",
       "\n",
       "                     Result  \n",
       "0   England won by 158 runs  \n",
       "1  England won by 9 wickets  \n",
       "2               Match Drawn  \n",
       "3   England won by 202 runs  \n",
       "4  England won by 9 wickets  "
      ]
     },
     "execution_count": 63,
     "metadata": {},
     "output_type": "execute_result"
    }
   ],
   "source": [
    "df = pd.DataFrame(data_rows, columns=headers)\n",
    "df.head()"
   ]
  },
  {
   "cell_type": "code",
   "execution_count": 65,
   "id": "31282230",
   "metadata": {},
   "outputs": [
    {
     "data": {
      "text/html": [
       "<div>\n",
       "<style scoped>\n",
       "    .dataframe tbody tr th:only-of-type {\n",
       "        vertical-align: middle;\n",
       "    }\n",
       "\n",
       "    .dataframe tbody tr th {\n",
       "        vertical-align: top;\n",
       "    }\n",
       "\n",
       "    .dataframe thead th {\n",
       "        text-align: right;\n",
       "    }\n",
       "</style>\n",
       "<table border=\"1\" class=\"dataframe\">\n",
       "  <thead>\n",
       "    <tr style=\"text-align: right;\">\n",
       "      <th></th>\n",
       "      <th>Test Number</th>\n",
       "      <th>Date</th>\n",
       "      <th>Series</th>\n",
       "      <th>Ground</th>\n",
       "      <th>Result</th>\n",
       "    </tr>\n",
       "  </thead>\n",
       "  <tbody>\n",
       "    <tr>\n",
       "      <th>0</th>\n",
       "      <td>1</td>\n",
       "      <td>25/06/1932</td>\n",
       "      <td>1932 England v. India</td>\n",
       "      <td>Lord's</td>\n",
       "      <td>England won by 158 runs</td>\n",
       "    </tr>\n",
       "    <tr>\n",
       "      <th>1</th>\n",
       "      <td>2</td>\n",
       "      <td>15/12/1933</td>\n",
       "      <td>1933-1934 India v. England</td>\n",
       "      <td>Gymkhana Ground</td>\n",
       "      <td>England won by 9 wickets</td>\n",
       "    </tr>\n",
       "    <tr>\n",
       "      <th>2</th>\n",
       "      <td>3</td>\n",
       "      <td>05/01/1934</td>\n",
       "      <td>1933-1934 India v. England</td>\n",
       "      <td>Eden Gardens</td>\n",
       "      <td>Match Drawn</td>\n",
       "    </tr>\n",
       "    <tr>\n",
       "      <th>3</th>\n",
       "      <td>4</td>\n",
       "      <td>10/02/1934</td>\n",
       "      <td>1933-1934 India v. England</td>\n",
       "      <td>MA Chidambaram Stadium</td>\n",
       "      <td>England won by 202 runs</td>\n",
       "    </tr>\n",
       "    <tr>\n",
       "      <th>4</th>\n",
       "      <td>5</td>\n",
       "      <td>27/06/1936</td>\n",
       "      <td>1936 England v. India</td>\n",
       "      <td>Lord's</td>\n",
       "      <td>England won by 9 wickets</td>\n",
       "    </tr>\n",
       "  </tbody>\n",
       "</table>\n",
       "</div>"
      ],
      "text/plain": [
       "  Test Number        Date                      Series                  Ground  \\\n",
       "0           1  25/06/1932       1932 England v. India                  Lord's   \n",
       "1           2  15/12/1933  1933-1934 India v. England         Gymkhana Ground   \n",
       "2           3  05/01/1934  1933-1934 India v. England            Eden Gardens   \n",
       "3           4  10/02/1934  1933-1934 India v. England  MA Chidambaram Stadium   \n",
       "4           5  27/06/1936       1936 England v. India                  Lord's   \n",
       "\n",
       "                     Result  \n",
       "0   England won by 158 runs  \n",
       "1  England won by 9 wickets  \n",
       "2               Match Drawn  \n",
       "3   England won by 202 runs  \n",
       "4  England won by 9 wickets  "
      ]
     },
     "execution_count": 65,
     "metadata": {},
     "output_type": "execute_result"
    }
   ],
   "source": [
    "df.columns = ['Test Number', 'Date', 'Series', 'Ground', 'Result']\n",
    "df.head()"
   ]
  },
  {
   "cell_type": "code",
   "execution_count": 68,
   "id": "5d012f1c",
   "metadata": {},
   "outputs": [],
   "source": [
    "#Download to a CSV file\n",
    "df.to_csv('../data/india_match_results.csv', index=False)"
   ]
  }
 ],
 "metadata": {
  "kernelspec": {
   "display_name": "Python 3 (ipykernel)",
   "language": "python",
   "name": "python3"
  },
  "language_info": {
   "codemirror_mode": {
    "name": "ipython",
    "version": 3
   },
   "file_extension": ".py",
   "mimetype": "text/x-python",
   "name": "python",
   "nbconvert_exporter": "python",
   "pygments_lexer": "ipython3",
   "version": "3.11.5"
  }
 },
 "nbformat": 4,
 "nbformat_minor": 5
}
