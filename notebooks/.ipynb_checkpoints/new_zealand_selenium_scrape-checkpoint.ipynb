{
 "cells": [
  {
   "cell_type": "code",
   "execution_count": 1,
   "id": "654fd059",
   "metadata": {},
   "outputs": [
    {
     "name": "stdout",
     "output_type": "stream",
     "text": [
      "Requirement already satisfied: beautifulsoup4 in c:\\users\\jane barraclough\\anaconda3\\lib\\site-packages (4.12.2)\n",
      "Requirement already satisfied: soupsieve>1.2 in c:\\users\\jane barraclough\\anaconda3\\lib\\site-packages (from beautifulsoup4) (2.4)\n"
     ]
    }
   ],
   "source": [
    "!pip install beautifulsoup4"
   ]
  },
  {
   "cell_type": "code",
   "execution_count": 2,
   "id": "bb24b76b",
   "metadata": {},
   "outputs": [
    {
     "name": "stdout",
     "output_type": "stream",
     "text": [
      "Requirement already satisfied: selenium in c:\\users\\jane barraclough\\anaconda3\\lib\\site-packages (4.31.0)\n",
      "Requirement already satisfied: urllib3[socks]<3,>=1.26 in c:\\users\\jane barraclough\\anaconda3\\lib\\site-packages (from selenium) (1.26.16)\n",
      "Requirement already satisfied: trio~=0.17 in c:\\users\\jane barraclough\\anaconda3\\lib\\site-packages (from selenium) (0.30.0)\n",
      "Requirement already satisfied: trio-websocket~=0.9 in c:\\users\\jane barraclough\\anaconda3\\lib\\site-packages (from selenium) (0.12.2)\n",
      "Requirement already satisfied: certifi>=2021.10.8 in c:\\users\\jane barraclough\\anaconda3\\lib\\site-packages (from selenium) (2024.7.4)\n",
      "Requirement already satisfied: typing_extensions~=4.9 in c:\\users\\jane barraclough\\anaconda3\\lib\\site-packages (from selenium) (4.13.2)\n",
      "Requirement already satisfied: websocket-client~=1.8 in c:\\users\\jane barraclough\\anaconda3\\lib\\site-packages (from selenium) (1.8.0)\n",
      "Requirement already satisfied: attrs>=23.2.0 in c:\\users\\jane barraclough\\anaconda3\\lib\\site-packages (from trio~=0.17->selenium) (25.3.0)\n",
      "Requirement already satisfied: sortedcontainers in c:\\users\\jane barraclough\\anaconda3\\lib\\site-packages (from trio~=0.17->selenium) (2.4.0)\n",
      "Requirement already satisfied: idna in c:\\users\\jane barraclough\\anaconda3\\lib\\site-packages (from trio~=0.17->selenium) (3.4)\n",
      "Requirement already satisfied: outcome in c:\\users\\jane barraclough\\anaconda3\\lib\\site-packages (from trio~=0.17->selenium) (1.3.0.post0)\n",
      "Requirement already satisfied: sniffio>=1.3.0 in c:\\users\\jane barraclough\\anaconda3\\lib\\site-packages (from trio~=0.17->selenium) (1.3.1)\n",
      "Requirement already satisfied: cffi>=1.14 in c:\\users\\jane barraclough\\anaconda3\\lib\\site-packages (from trio~=0.17->selenium) (1.15.1)\n",
      "Requirement already satisfied: wsproto>=0.14 in c:\\users\\jane barraclough\\anaconda3\\lib\\site-packages (from trio-websocket~=0.9->selenium) (1.2.0)\n",
      "Requirement already satisfied: PySocks!=1.5.7,<2.0,>=1.5.6 in c:\\users\\jane barraclough\\anaconda3\\lib\\site-packages (from urllib3[socks]<3,>=1.26->selenium) (1.7.1)\n",
      "Requirement already satisfied: pycparser in c:\\users\\jane barraclough\\anaconda3\\lib\\site-packages (from cffi>=1.14->trio~=0.17->selenium) (2.21)\n",
      "Requirement already satisfied: h11<1,>=0.9.0 in c:\\users\\jane barraclough\\anaconda3\\lib\\site-packages (from wsproto>=0.14->trio-websocket~=0.9->selenium) (0.16.0)\n"
     ]
    }
   ],
   "source": [
    "!pip install selenium"
   ]
  },
  {
   "cell_type": "code",
   "execution_count": 3,
   "id": "afb5c886",
   "metadata": {},
   "outputs": [],
   "source": [
    "#https://builtin.com/articles/selenium-web-scraping\n",
    "#https://brightdata.com/blog/how-tos/using-selenium-for-web-scraping#:~:text=Before%20you%20start%20web%20scraping,Chrome%2C%20Firefox%2C%20and%20Edge.\n",
    "\n",
    "#Import selenium and other required packages for the scrape\n",
    "from selenium import webdriver\n",
    "from selenium.webdriver.chrome.service import Service\n",
    "from selenium.webdriver.chrome.options import Options\n",
    "from bs4 import BeautifulSoup\n",
    "import pandas as pd\n",
    "import csv"
   ]
  },
  {
   "cell_type": "code",
   "execution_count": 4,
   "id": "4fdd23be",
   "metadata": {},
   "outputs": [],
   "source": [
    "options = Options()\n",
    "options.add_argument(\"--headless\")\n",
    "\n",
    "service = Service(\"C:/Users/Jane Barraclough/chromedriver.exe\")\n",
    "driver = webdriver.Chrome(service=service, options=options)"
   ]
  },
  {
   "cell_type": "code",
   "execution_count": 5,
   "id": "de84561e",
   "metadata": {},
   "outputs": [],
   "source": [
    "url = \"https://howstat.com/Cricket/Statistics/Matches/MatchListCountry.asp?A=NZL&B=XXX&C=XXX\"\n",
    "driver.get(url)\n",
    "\n",
    "html = driver.page_source\n",
    "soup = BeautifulSoup(html, 'html.parser')\n",
    "driver.quit()"
   ]
  },
  {
   "cell_type": "code",
   "execution_count": 6,
   "id": "99ade653",
   "metadata": {},
   "outputs": [],
   "source": [
    "#I know I need table 5 for my analysis from the previous scrape attempt\n",
    "tables = soup.find_all('table')\n",
    "match_table = tables[5]\n",
    "rows = match_table.find_all('tr')"
   ]
  },
  {
   "cell_type": "code",
   "execution_count": 7,
   "id": "de524d5d",
   "metadata": {},
   "outputs": [
    {
     "name": "stdout",
     "output_type": "stream",
     "text": [
      "479\n"
     ]
    }
   ],
   "source": [
    "print(len(rows))"
   ]
  },
  {
   "cell_type": "code",
   "execution_count": 8,
   "id": "2116e160",
   "metadata": {},
   "outputs": [
    {
     "name": "stdout",
     "output_type": "stream",
     "text": [
      "['', 'Date', 'Series', 'Ground', 'Result']\n"
     ]
    }
   ],
   "source": [
    "header_row = rows[0]\n",
    "headers = [cell.text.strip() for cell in header_row.find_all(['th', 'td'])]\n",
    "print(headers)"
   ]
  },
  {
   "cell_type": "code",
   "execution_count": 9,
   "id": "cda7afea",
   "metadata": {},
   "outputs": [
    {
     "name": "stdout",
     "output_type": "stream",
     "text": [
      "[['1', '10/01/1930', '1929-1930 New Zealand v. England', 'AMI Stadium', 'England won by 8 wickets'], ['2', '24/01/1930', '1929-1930 New Zealand v. England', 'Basin Reserve', 'Match Drawn'], ['3', '14/02/1930', '1929-1930 New Zealand v. England', 'Eden Park', 'Match Drawn'], ['4', '21/02/1930', '1929-1930 New Zealand v. England', 'Eden Park', 'Match Drawn']]\n"
     ]
    }
   ],
   "source": [
    "data_rows = []\n",
    "\n",
    "for row in rows[1:]:\n",
    "    cells = [cell.text.strip() for cell in row.find_all(['th', 'td'])]\n",
    "    if cells:\n",
    "        data_rows.append(cells)\n",
    "\n",
    "print(data_rows[0:4])"
   ]
  },
  {
   "cell_type": "code",
   "execution_count": 10,
   "id": "bf9ebad6",
   "metadata": {},
   "outputs": [
    {
     "data": {
      "text/html": [
       "<div>\n",
       "<style scoped>\n",
       "    .dataframe tbody tr th:only-of-type {\n",
       "        vertical-align: middle;\n",
       "    }\n",
       "\n",
       "    .dataframe tbody tr th {\n",
       "        vertical-align: top;\n",
       "    }\n",
       "\n",
       "    .dataframe thead th {\n",
       "        text-align: right;\n",
       "    }\n",
       "</style>\n",
       "<table border=\"1\" class=\"dataframe\">\n",
       "  <thead>\n",
       "    <tr style=\"text-align: right;\">\n",
       "      <th></th>\n",
       "      <th>Test Number</th>\n",
       "      <th>Date</th>\n",
       "      <th>Series</th>\n",
       "      <th>Ground</th>\n",
       "      <th>Result</th>\n",
       "    </tr>\n",
       "  </thead>\n",
       "  <tbody>\n",
       "    <tr>\n",
       "      <th>0</th>\n",
       "      <td>1</td>\n",
       "      <td>10/01/1930</td>\n",
       "      <td>1929-1930 New Zealand v. England</td>\n",
       "      <td>AMI Stadium</td>\n",
       "      <td>England won by 8 wickets</td>\n",
       "    </tr>\n",
       "    <tr>\n",
       "      <th>1</th>\n",
       "      <td>2</td>\n",
       "      <td>24/01/1930</td>\n",
       "      <td>1929-1930 New Zealand v. England</td>\n",
       "      <td>Basin Reserve</td>\n",
       "      <td>Match Drawn</td>\n",
       "    </tr>\n",
       "    <tr>\n",
       "      <th>2</th>\n",
       "      <td>3</td>\n",
       "      <td>14/02/1930</td>\n",
       "      <td>1929-1930 New Zealand v. England</td>\n",
       "      <td>Eden Park</td>\n",
       "      <td>Match Drawn</td>\n",
       "    </tr>\n",
       "    <tr>\n",
       "      <th>3</th>\n",
       "      <td>4</td>\n",
       "      <td>21/02/1930</td>\n",
       "      <td>1929-1930 New Zealand v. England</td>\n",
       "      <td>Eden Park</td>\n",
       "      <td>Match Drawn</td>\n",
       "    </tr>\n",
       "    <tr>\n",
       "      <th>4</th>\n",
       "      <td>5</td>\n",
       "      <td>27/06/1931</td>\n",
       "      <td>1931 England v. New Zealand</td>\n",
       "      <td>Lord's</td>\n",
       "      <td>Match Drawn</td>\n",
       "    </tr>\n",
       "  </tbody>\n",
       "</table>\n",
       "</div>"
      ],
      "text/plain": [
       "  Test Number        Date                            Series         Ground  \\\n",
       "0           1  10/01/1930  1929-1930 New Zealand v. England    AMI Stadium   \n",
       "1           2  24/01/1930  1929-1930 New Zealand v. England  Basin Reserve   \n",
       "2           3  14/02/1930  1929-1930 New Zealand v. England      Eden Park   \n",
       "3           4  21/02/1930  1929-1930 New Zealand v. England      Eden Park   \n",
       "4           5  27/06/1931       1931 England v. New Zealand         Lord's   \n",
       "\n",
       "                     Result  \n",
       "0  England won by 8 wickets  \n",
       "1               Match Drawn  \n",
       "2               Match Drawn  \n",
       "3               Match Drawn  \n",
       "4               Match Drawn  "
      ]
     },
     "execution_count": 10,
     "metadata": {},
     "output_type": "execute_result"
    }
   ],
   "source": [
    "df = pd.DataFrame(data_rows, columns=headers)\n",
    "df.columns = ['Test Number', 'Date', 'Series', 'Ground', 'Result']\n",
    "df.head()"
   ]
  },
  {
   "cell_type": "code",
   "execution_count": 11,
   "id": "77cedf79",
   "metadata": {},
   "outputs": [],
   "source": [
    "df.to_csv('../data/new_zealand_match_results.csv', index=False)"
   ]
  }
 ],
 "metadata": {
  "kernelspec": {
   "display_name": "Python 3 (ipykernel)",
   "language": "python",
   "name": "python3"
  },
  "language_info": {
   "codemirror_mode": {
    "name": "ipython",
    "version": 3
   },
   "file_extension": ".py",
   "mimetype": "text/x-python",
   "name": "python",
   "nbconvert_exporter": "python",
   "pygments_lexer": "ipython3",
   "version": "3.11.5"
  }
 },
 "nbformat": 4,
 "nbformat_minor": 5
}
