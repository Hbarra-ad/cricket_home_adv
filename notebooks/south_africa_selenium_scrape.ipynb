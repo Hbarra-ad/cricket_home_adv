{
 "cells": [
  {
   "cell_type": "code",
   "execution_count": 1,
   "id": "91ada762",
   "metadata": {},
   "outputs": [
    {
     "name": "stdout",
     "output_type": "stream",
     "text": [
      "Requirement already satisfied: beautifulsoup4 in c:\\users\\jane barraclough\\anaconda3\\lib\\site-packages (4.12.2)\n",
      "Requirement already satisfied: soupsieve>1.2 in c:\\users\\jane barraclough\\anaconda3\\lib\\site-packages (from beautifulsoup4) (2.4)\n"
     ]
    }
   ],
   "source": [
    "!pip install beautifulsoup4"
   ]
  },
  {
   "cell_type": "code",
   "execution_count": 3,
   "id": "1f1b759b",
   "metadata": {},
   "outputs": [
    {
     "name": "stdout",
     "output_type": "stream",
     "text": [
      "Requirement already satisfied: selenium in c:\\users\\jane barraclough\\anaconda3\\lib\\site-packages (4.31.0)\n",
      "Requirement already satisfied: urllib3[socks]<3,>=1.26 in c:\\users\\jane barraclough\\anaconda3\\lib\\site-packages (from selenium) (1.26.16)\n",
      "Requirement already satisfied: trio~=0.17 in c:\\users\\jane barraclough\\anaconda3\\lib\\site-packages (from selenium) (0.30.0)\n",
      "Requirement already satisfied: trio-websocket~=0.9 in c:\\users\\jane barraclough\\anaconda3\\lib\\site-packages (from selenium) (0.12.2)\n",
      "Requirement already satisfied: certifi>=2021.10.8 in c:\\users\\jane barraclough\\anaconda3\\lib\\site-packages (from selenium) (2024.7.4)\n",
      "Requirement already satisfied: typing_extensions~=4.9 in c:\\users\\jane barraclough\\anaconda3\\lib\\site-packages (from selenium) (4.13.2)\n",
      "Requirement already satisfied: websocket-client~=1.8 in c:\\users\\jane barraclough\\anaconda3\\lib\\site-packages (from selenium) (1.8.0)\n",
      "Requirement already satisfied: attrs>=23.2.0 in c:\\users\\jane barraclough\\anaconda3\\lib\\site-packages (from trio~=0.17->selenium) (25.3.0)\n",
      "Requirement already satisfied: sortedcontainers in c:\\users\\jane barraclough\\anaconda3\\lib\\site-packages (from trio~=0.17->selenium) (2.4.0)\n",
      "Requirement already satisfied: idna in c:\\users\\jane barraclough\\anaconda3\\lib\\site-packages (from trio~=0.17->selenium) (3.4)\n",
      "Requirement already satisfied: outcome in c:\\users\\jane barraclough\\anaconda3\\lib\\site-packages (from trio~=0.17->selenium) (1.3.0.post0)\n",
      "Requirement already satisfied: sniffio>=1.3.0 in c:\\users\\jane barraclough\\anaconda3\\lib\\site-packages (from trio~=0.17->selenium) (1.3.1)\n",
      "Requirement already satisfied: cffi>=1.14 in c:\\users\\jane barraclough\\anaconda3\\lib\\site-packages (from trio~=0.17->selenium) (1.15.1)\n",
      "Requirement already satisfied: wsproto>=0.14 in c:\\users\\jane barraclough\\anaconda3\\lib\\site-packages (from trio-websocket~=0.9->selenium) (1.2.0)\n",
      "Requirement already satisfied: PySocks!=1.5.7,<2.0,>=1.5.6 in c:\\users\\jane barraclough\\anaconda3\\lib\\site-packages (from urllib3[socks]<3,>=1.26->selenium) (1.7.1)\n",
      "Requirement already satisfied: pycparser in c:\\users\\jane barraclough\\anaconda3\\lib\\site-packages (from cffi>=1.14->trio~=0.17->selenium) (2.21)\n",
      "Requirement already satisfied: h11<1,>=0.9.0 in c:\\users\\jane barraclough\\anaconda3\\lib\\site-packages (from wsproto>=0.14->trio-websocket~=0.9->selenium) (0.16.0)\n"
     ]
    }
   ],
   "source": [
    "!pip install selenium"
   ]
  },
  {
   "cell_type": "code",
   "execution_count": 4,
   "id": "d054e2a4",
   "metadata": {},
   "outputs": [],
   "source": [
    "#https://builtin.com/articles/selenium-web-scraping\n",
    "#https://brightdata.com/blog/how-tos/using-selenium-for-web-scraping#:~:text=Before%20you%20start%20web%20scraping,Chrome%2C%20Firefox%2C%20and%20Edge.\n",
    "\n",
    "#Import selenium and other required packages for the scrape\n",
    "from selenium import webdriver\n",
    "from selenium.webdriver.chrome.service import Service\n",
    "from selenium.webdriver.chrome.options import Options\n",
    "from bs4 import BeautifulSoup\n",
    "import pandas as pd\n",
    "import csv"
   ]
  },
  {
   "cell_type": "code",
   "execution_count": 5,
   "id": "ad162b5a",
   "metadata": {},
   "outputs": [],
   "source": [
    "#Set up the chrome driver options\n",
    "options = Options()\n",
    "options.add_argument(\"--headless\")\n",
    "\n",
    "#Set up the driver\n",
    "service = Service(\"C:/Users/Jane Barraclough/chromedriver.exe\")\n",
    "driver = webdriver.Chrome(service=service, options=options)"
   ]
  },
  {
   "cell_type": "code",
   "execution_count": 6,
   "id": "02c8439e",
   "metadata": {},
   "outputs": [],
   "source": [
    "#Get the url\n",
    "url = \"https://howstat.com/Cricket/Statistics/Matches/MatchListCountry.asp?A=SAF&B=XXX&C=XXX\"\n",
    "driver.get(url)\n",
    "\n",
    "#Get the full HTML and close the browser\n",
    "html = driver.page_source\n",
    "soup = BeautifulSoup(html, 'html.parser')\n",
    "driver.quit()"
   ]
  },
  {
   "cell_type": "code",
   "execution_count": 7,
   "id": "5eca4072",
   "metadata": {},
   "outputs": [],
   "source": [
    "#I know I need table 5 for my analysis from the previous scrape attempt\n",
    "tables = soup.find_all('table')\n",
    "match_table = tables[5]\n",
    "rows = match_table.find_all('tr')"
   ]
  },
  {
   "cell_type": "code",
   "execution_count": 8,
   "id": "e67c92e9",
   "metadata": {},
   "outputs": [
    {
     "name": "stdout",
     "output_type": "stream",
     "text": [
      "473\n"
     ]
    }
   ],
   "source": [
    "#Need to confirm the number of rows matches the matches played\n",
    "print(len(rows))"
   ]
  },
  {
   "cell_type": "code",
   "execution_count": 9,
   "id": "644034b4",
   "metadata": {},
   "outputs": [
    {
     "name": "stdout",
     "output_type": "stream",
     "text": [
      "['', 'Date', 'Series', 'Ground', 'Result']\n"
     ]
    }
   ],
   "source": [
    "#Get the column names\n",
    "header_row = rows[0]\n",
    "headers = [cell.text.strip() for cell in header_row.find_all(['th', 'td'])]\n",
    "print(headers)"
   ]
  },
  {
   "cell_type": "code",
   "execution_count": 10,
   "id": "3fd5589a",
   "metadata": {},
   "outputs": [
    {
     "name": "stdout",
     "output_type": "stream",
     "text": [
      "[['1', '12/03/1889', '1888-1889 South Africa v. England', \"St George's Park\", 'England won by 8 wickets'], ['2', '25/03/1889', '1888-1889 South Africa v. England', 'Newlands', 'England won by an innings and 202 runs'], ['3', '19/03/1892', '1891-1892 South Africa v. England', 'Newlands', 'England won by an innings and 189 runs'], ['4', '13/02/1896', '1895-1896 South Africa v. England', \"St George's Park\", 'England won by 288 runs']]\n"
     ]
    }
   ],
   "source": [
    "#Extract all match data rows\n",
    "data_rows = []\n",
    "\n",
    "for row in rows[1:]:\n",
    "    cells = [cell.text.strip() for cell in row.find_all(['th', 'td'])]\n",
    "    if cells:\n",
    "        data_rows.append(cells)\n",
    "\n",
    "print(data_rows[0:4])"
   ]
  },
  {
   "cell_type": "code",
   "execution_count": 11,
   "id": "844bacaf",
   "metadata": {},
   "outputs": [
    {
     "data": {
      "text/html": [
       "<div>\n",
       "<style scoped>\n",
       "    .dataframe tbody tr th:only-of-type {\n",
       "        vertical-align: middle;\n",
       "    }\n",
       "\n",
       "    .dataframe tbody tr th {\n",
       "        vertical-align: top;\n",
       "    }\n",
       "\n",
       "    .dataframe thead th {\n",
       "        text-align: right;\n",
       "    }\n",
       "</style>\n",
       "<table border=\"1\" class=\"dataframe\">\n",
       "  <thead>\n",
       "    <tr style=\"text-align: right;\">\n",
       "      <th></th>\n",
       "      <th>Test Number</th>\n",
       "      <th>Date</th>\n",
       "      <th>Series</th>\n",
       "      <th>Ground</th>\n",
       "      <th>Result</th>\n",
       "    </tr>\n",
       "  </thead>\n",
       "  <tbody>\n",
       "    <tr>\n",
       "      <th>0</th>\n",
       "      <td>1</td>\n",
       "      <td>12/03/1889</td>\n",
       "      <td>1888-1889 South Africa v. England</td>\n",
       "      <td>St George's Park</td>\n",
       "      <td>England won by 8 wickets</td>\n",
       "    </tr>\n",
       "    <tr>\n",
       "      <th>1</th>\n",
       "      <td>2</td>\n",
       "      <td>25/03/1889</td>\n",
       "      <td>1888-1889 South Africa v. England</td>\n",
       "      <td>Newlands</td>\n",
       "      <td>England won by an innings and 202 runs</td>\n",
       "    </tr>\n",
       "    <tr>\n",
       "      <th>2</th>\n",
       "      <td>3</td>\n",
       "      <td>19/03/1892</td>\n",
       "      <td>1891-1892 South Africa v. England</td>\n",
       "      <td>Newlands</td>\n",
       "      <td>England won by an innings and 189 runs</td>\n",
       "    </tr>\n",
       "    <tr>\n",
       "      <th>3</th>\n",
       "      <td>4</td>\n",
       "      <td>13/02/1896</td>\n",
       "      <td>1895-1896 South Africa v. England</td>\n",
       "      <td>St George's Park</td>\n",
       "      <td>England won by 288 runs</td>\n",
       "    </tr>\n",
       "    <tr>\n",
       "      <th>4</th>\n",
       "      <td>5</td>\n",
       "      <td>02/03/1896</td>\n",
       "      <td>1895-1896 South Africa v. England</td>\n",
       "      <td>Old Wanderers</td>\n",
       "      <td>England won by an innings and 197 runs</td>\n",
       "    </tr>\n",
       "  </tbody>\n",
       "</table>\n",
       "</div>"
      ],
      "text/plain": [
       "  Test Number        Date                             Series  \\\n",
       "0           1  12/03/1889  1888-1889 South Africa v. England   \n",
       "1           2  25/03/1889  1888-1889 South Africa v. England   \n",
       "2           3  19/03/1892  1891-1892 South Africa v. England   \n",
       "3           4  13/02/1896  1895-1896 South Africa v. England   \n",
       "4           5  02/03/1896  1895-1896 South Africa v. England   \n",
       "\n",
       "             Ground                                  Result  \n",
       "0  St George's Park                England won by 8 wickets  \n",
       "1          Newlands  England won by an innings and 202 runs  \n",
       "2          Newlands  England won by an innings and 189 runs  \n",
       "3  St George's Park                 England won by 288 runs  \n",
       "4     Old Wanderers  England won by an innings and 197 runs  "
      ]
     },
     "execution_count": 11,
     "metadata": {},
     "output_type": "execute_result"
    }
   ],
   "source": [
    "df = pd.DataFrame(data_rows, columns=headers)\n",
    "df.columns = ['Test Number', 'Date', 'Series', 'Ground', 'Result']\n",
    "df.head()"
   ]
  },
  {
   "cell_type": "code",
   "execution_count": 12,
   "id": "fbd07e3d",
   "metadata": {},
   "outputs": [],
   "source": [
    "#Download to a CSV file\n",
    "df.to_csv('../data/south_africa_match_results.csv', index=False)"
   ]
  }
 ],
 "metadata": {
  "kernelspec": {
   "display_name": "Python 3 (ipykernel)",
   "language": "python",
   "name": "python3"
  },
  "language_info": {
   "codemirror_mode": {
    "name": "ipython",
    "version": 3
   },
   "file_extension": ".py",
   "mimetype": "text/x-python",
   "name": "python",
   "nbconvert_exporter": "python",
   "pygments_lexer": "ipython3",
   "version": "3.11.5"
  }
 },
 "nbformat": 4,
 "nbformat_minor": 5
}
