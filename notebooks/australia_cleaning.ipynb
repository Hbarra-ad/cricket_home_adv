{
 "cells": [
  {
   "cell_type": "code",
   "execution_count": 1,
   "id": "1d65c3d3",
   "metadata": {},
   "outputs": [],
   "source": [
    "import pandas as pd\n",
    "import numpy as np\n",
    "import matplotlib.pyplot as plt"
   ]
  },
  {
   "cell_type": "code",
   "execution_count": 2,
   "id": "af1a969a",
   "metadata": {},
   "outputs": [],
   "source": [
    "df = pd.read_csv(\"../data/australia_match_results.csv\")\n",
    "\n",
    "df['Date'] = df['Date'].astype(str).str[-4:]\n",
    "df['Series'] = df['Series'].str.replace(r'[^a-zA-Z\\s]', '', regex = True)\n",
    "df['Home Team'] = df['Series'].str.split().str[0]\n",
    "df['Result'] = df['Result'].str.split().str[:2].str.join(' ')\n",
    "df['Winner'] = df['Result'].str.split().str[:1].str.join(' ')\n",
    "df['Winner'] = df['Winner'].str.replace('Match', 'Draw', regex = False)\n",
    "df = df.drop('Result', axis = 1)\n",
    "df = df.drop('Test Number', axis = 1)\n",
    "df = df.drop('Series', axis = 1)\n",
    "df = df[df['Home Team'] == 'Australia']\n",
    "\n",
    "df.to_csv('../data/clean_australia_data.csv', index=False)"
   ]
  }
 ],
 "metadata": {
  "kernelspec": {
   "display_name": "Python 3 (ipykernel)",
   "language": "python",
   "name": "python3"
  },
  "language_info": {
   "codemirror_mode": {
    "name": "ipython",
    "version": 3
   },
   "file_extension": ".py",
   "mimetype": "text/x-python",
   "name": "python",
   "nbconvert_exporter": "python",
   "pygments_lexer": "ipython3",
   "version": "3.11.5"
  }
 },
 "nbformat": 4,
 "nbformat_minor": 5
}
